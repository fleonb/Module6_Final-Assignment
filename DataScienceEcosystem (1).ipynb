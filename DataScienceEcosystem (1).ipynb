{
 "cells": [
  {
   "cell_type": "markdown",
   "id": "0fdfacdc-f93b-4f84-99ef-ec31c411d91c",
   "metadata": {},
   "source": [
    "# Data Science Tools and Ecosystem"
   ]
  },
  {
   "cell_type": "markdown",
   "id": "30d7d39e-93d3-4c5e-99c0-4207a58fc6b0",
   "metadata": {},
   "source": [
    "# In this notebook, Data Science Tools and Ecosystem are summarized."
   ]
  },
  {
   "cell_type": "markdown",
   "id": "b6450987-a06d-49f0-9e46-36a9fbdcb6a5",
   "metadata": {},
   "source": [
    "# **Objectives**\n",
    "- List popular languages for Data Science\n",
    "- Key open-source tools for Data Science\n",
    "- Describe how to use the notebooks in JupyterLab"
   ]
  },
  {
   "cell_type": "markdown",
   "id": "7b777691-6641-4a9c-be4e-cf49707a1af1",
   "metadata": {},
   "source": [
    "# Some of the popular languages that Data Scientists use are:\n",
    "1. Python \n",
    "2. R \n",
    "3. SQL"
   ]
  },
  {
   "cell_type": "markdown",
   "id": "9b64b841-a1d0-42e1-944a-3da0084f3397",
   "metadata": {},
   "source": [
    "# Some of the commonly libraries used by Data Scientists are:\n",
    "1. Numpy \n",
    "2. Pandas \n",
    "3. Matplotlib"
   ]
  },
  {
   "cell_type": "markdown",
   "id": "1e59afc8-f56e-4610-ae20-0c85da7c4a44",
   "metadata": {},
   "source": [
    "## Data Science tools\n",
    "| Data Science Tools |\n",
    "| --- |\n",
    "| Kibana |\n",
    "| Jupyter IDE |\n",
    "| RStudio |"
   ]
  },
  {
   "cell_type": "markdown",
   "id": "fb8ae962-cb58-49d8-8a2e-17956dfe7a4b",
   "metadata": {},
   "source": [
    "### Below are a few examples of evaluating arithmetic expressions in Python"
   ]
  },
  {
   "cell_type": "code",
   "execution_count": 9,
   "id": "c7cde51a-90cb-4b20-8ef2-443c2ce84b3a",
   "metadata": {},
   "outputs": [
    {
     "data": {
      "text/plain": [
       "17"
      ]
     },
     "execution_count": 9,
     "metadata": {},
     "output_type": "execute_result"
    }
   ],
   "source": [
    "#This a simple arithmetic expression to multiply then add integers\n",
    "(3*4)+5"
   ]
  },
  {
   "cell_type": "code",
   "execution_count": 10,
   "id": "5ff928b2-1f9a-4039-a3d5-f84b2a1e449d",
   "metadata": {},
   "outputs": [
    {
     "name": "stdout",
     "output_type": "stream",
     "text": [
      "3.3333333333333335\n"
     ]
    }
   ],
   "source": [
    "#This will convert 200 minutes to hours by diving by 60\n",
    "min_hours = (200 / 60)\n",
    "print(min_hours)"
   ]
  },
  {
   "cell_type": "markdown",
   "id": "05b23fa1-d94e-4115-927e-f2f26121df51",
   "metadata": {},
   "source": [
    "## Autor\n",
    "Fabian Leon"
   ]
  },
  {
   "cell_type": "code",
   "execution_count": null,
   "id": "9eebafea-c029-4bc6-8b84-6d302a9da5bd",
   "metadata": {},
   "outputs": [],
   "source": []
  }
 ],
 "metadata": {
  "kernelspec": {
   "display_name": "Python 3 (ipykernel)",
   "language": "python",
   "name": "python3"
  },
  "language_info": {
   "codemirror_mode": {
    "name": "ipython",
    "version": 3
   },
   "file_extension": ".py",
   "mimetype": "text/x-python",
   "name": "python",
   "nbconvert_exporter": "python",
   "pygments_lexer": "ipython3",
   "version": "3.12.8"
  }
 },
 "nbformat": 4,
 "nbformat_minor": 5
}
