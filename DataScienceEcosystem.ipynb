{
 "cells": [
  {
   "cell_type": "markdown",
   "id": "9b350996-7b87-4ef2-9e33-eefe138bbad4",
   "metadata": {},
   "source": [
    "# Data Science Tools and Ecosystem"
   ]
  },
  {
   "cell_type": "markdown",
   "id": "5c7c4428-47a6-4368-a154-bc1e45889aa1",
   "metadata": {},
   "source": [
    "# In this notebook, Data Science Tools and Ecosystem are summarized."
   ]
  },
  {
   "cell_type": "markdown",
   "id": "b6450987-a06d-49f0-9e46-36a9fbdcb6a5",
   "metadata": {},
   "source": [
    "# **Objectives**\n",
    "- List popular languages for Data Science\n",
    "- Key open-source tools for Data Science\n",
    "- Describe how to use the notebooks in JupyterLab"
   ]
  },
  {
   "cell_type": "markdown",
   "id": "5adc2b70-f456-4184-afef-e5e9f9c1814f",
   "metadata": {},
   "source": [
    "# Some of the popular languages that Data Scientists use are:\n",
    "1.Python \n",
    "2.R \n",
    "3.SQL"
   ]
  },
  {
   "cell_type": "markdown",
   "id": "227fce35-664c-482d-8a36-b1643cb1d0f1",
   "metadata": {},
   "source": [
    "# Some of the commonly libraries used by Data Scientists are:\n",
    "1.Numpy \n",
    "2.Pandas \n",
    "3.Matplotlib"
   ]
  },
  {
   "cell_type": "markdown",
   "id": "1e59afc8-f56e-4610-ae20-0c85da7c4a44",
   "metadata": {},
   "source": [
    "## Data Science tools\n",
    "| Data Science Tools |\n",
    "| --- |\n",
    "| Kibana |\n",
    "| Jupyter IDE |\n",
    "| RStudio |"
   ]
  },
  {
   "cell_type": "markdown",
   "id": "f19ff02c-45d4-466f-a2f7-37fb87139ca7",
   "metadata": {},
   "source": [
    "### Below are a few examples of evaluating arithmetic expressions in Python"
   ]
  },
  {
   "cell_type": "code",
   "execution_count": 2,
   "id": "c7cde51a-90cb-4b20-8ef2-443c2ce84b3a",
   "metadata": {},
   "outputs": [
    {
     "data": {
      "text/plain": [
       "17"
      ]
     },
     "execution_count": 2,
     "metadata": {},
     "output_type": "execute_result"
    }
   ],
   "source": [
    "#This a simple arithmetic expression to multiply then add integers\n",
    "(3*4)+5"
   ]
  },
  {
   "cell_type": "code",
   "execution_count": 4,
   "id": "5ff928b2-1f9a-4039-a3d5-f84b2a1e449d",
   "metadata": {},
   "outputs": [
    {
     "name": "stdout",
     "output_type": "stream",
     "text": [
      "3.3333333333333335\n"
     ]
    }
   ],
   "source": [
    "#This will convert 200 minutes to hours by diving by 60\n",
    "min_hours = (200 / 60)\n",
    "print(min_hours)"
   ]
  },
  {
   "cell_type": "markdown",
   "id": "05b23fa1-d94e-4115-927e-f2f26121df51",
   "metadata": {},
   "source": [
    "## Autor\n",
    "Fabian Leon"
   ]
  },
  {
   "cell_type": "code",
   "execution_count": null,
   "id": "9eebafea-c029-4bc6-8b84-6d302a9da5bd",
   "metadata": {},
   "outputs": [],
   "source": []
  }
 ],
 "metadata": {
  "kernelspec": {
   "display_name": "Python 3 (ipykernel)",
   "language": "python",
   "name": "python3"
  },
  "language_info": {
   "codemirror_mode": {
    "name": "ipython",
    "version": 3
   },
   "file_extension": ".py",
   "mimetype": "text/x-python",
   "name": "python",
   "nbconvert_exporter": "python",
   "pygments_lexer": "ipython3",
   "version": "3.12.8"
  }
 },
 "nbformat": 4,
 "nbformat_minor": 5
}
